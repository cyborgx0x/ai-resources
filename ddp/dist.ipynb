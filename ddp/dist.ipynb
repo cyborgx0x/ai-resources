{
 "cells": [
  {
   "cell_type": "code",
   "execution_count": null,
   "metadata": {},
   "outputs": [],
   "source": [
    "import torch\n",
    "torch.cuda.is_available()"
   ]
  },
  {
   "cell_type": "code",
   "execution_count": null,
   "metadata": {},
   "outputs": [],
   "source": [
    "torch.distributed.is_available()"
   ]
  },
  {
   "cell_type": "code",
   "execution_count": null,
   "metadata": {},
   "outputs": [],
   "source": [
    "import datetime"
   ]
  },
  {
   "cell_type": "code",
   "execution_count": null,
   "metadata": {},
   "outputs": [],
   "source": [
    "torch.distributed.init_process_group(backend=None, init_method=None, timeout=datetime.timedelta(seconds=1800), world_size=-1, rank=-1, store=None, group_name='', pg_options=None)"
   ]
  },
  {
   "cell_type": "code",
   "execution_count": null,
   "metadata": {},
   "outputs": [],
   "source": [
    "import torch\n",
    "import torch.nn as nn\n",
    "import torch.optim as optim\n",
    "\n",
    "\n",
    "class ToyModel(nn.Module):\n",
    "    def __init__(self):\n",
    "        super(ToyModel, self).__init__()\n",
    "        self.net1 = torch.nn.Linear(10, 10).to('cuda:0')\n",
    "        self.relu = torch.nn.ReLU()\n",
    "        self.net2 = torch.nn.Linear(10, 5).to('cpu')\n",
    "\n",
    "    def forward(self, x):\n",
    "        x = self.relu(self.net1(x.to('cuda:0')))\n",
    "        return self.net2(x.to('cpu'))"
   ]
  },
  {
   "cell_type": "code",
   "execution_count": null,
   "metadata": {},
   "outputs": [],
   "source": [
    "model = ToyModel()\n",
    "loss_fn = nn.MSELoss()\n",
    "optimizer = optim.SGD(model.parameters(), lr=0.001)\n",
    "\n",
    "optimizer.zero_grad()\n",
    "outputs = model(torch.randn(20, 10))\n",
    "labels = torch.randn(20, 5).to('cpu')\n",
    "loss_fn(outputs, labels).backward()\n",
    "optimizer.step()"
   ]
  },
  {
   "cell_type": "code",
   "execution_count": null,
   "metadata": {},
   "outputs": [],
   "source": [
    "import easyocr\n",
    "import cv2\n",
    "from docx import Document\n",
    "from docx.shared import Pt\n",
    "\n",
    "# Create an OCR reader\n",
    "reader = easyocr.Reader(['en'])  # Replace 'en' with the language(s) you are using\n",
    "\n",
    "# Process image\n",
    "def process_image(img_path):\n",
    "    return cv2.imread(img_path)\n",
    "\n",
    "# Recognize text using EasyOCR\n",
    "def recognize_text(image):\n",
    "    return reader.readtext(image, paragraph=True)\n",
    "\n",
    "# Write paragraphs to DOCX\n",
    "def write_to_docx(paragraphs, filename):\n",
    "    doc = Document()\n",
    "    style = doc.styles['Normal']\n",
    "    font = style.font\n",
    "    font.name = 'Arial'\n",
    "    font.size = Pt(12)\n",
    "\n",
    "    for para in paragraphs:\n",
    "        p = doc.add_paragraph(para)\n",
    "        # Style adjustments can be made here\n",
    "    doc.save(filename)\n",
    "\n",
    "# Combine recognized text blocks into paragraphs\n",
    "def merge_paragraphs(blocks):\n",
    "    paragraphs = []\n",
    "    current_para = []\n",
    "\n",
    "    for block in blocks:\n",
    "        if block[-1] < 0.25:  # Confidence threshold; adjust based on use case\n",
    "            continue\n",
    "        text = block[1]\n",
    "        current_para.append(text.replace('\\n', ' '))\n",
    "\n",
    "    # Combine the current paragraph\n",
    "    paragraphs.append(' '.join(current_para).strip())\n",
    "\n",
    "    return paragraphs\n",
    "\n",
    "# Main function to convert image to docx\n",
    "def image_to_docx(img_path, docx_filename):\n",
    "    image = process_image(img_path)\n",
    "    blocks = recognize_text(image)\n",
    "    paragraphs = [para[1] for para in blocks]\n",
    "    # paragraphs = merge_paragraphs(blocks)\n",
    "    write_to_docx(paragraphs, docx_filename)\n",
    "\n",
    "# Call the conversion function with the image path and desired docx file name\n",
    "image_path = 'hyundai_venue.jpg'\n",
    "output_docx = 'output_document.docx'\n",
    "image_to_docx(image_path, output_docx)"
   ]
  },
  {
   "cell_type": "code",
   "execution_count": 1,
   "metadata": {},
   "outputs": [],
   "source": [
    "import easyocr\n",
    "import cv2\n",
    "from docx import Document\n",
    "from docx.shared import Pt"
   ]
  },
  {
   "cell_type": "code",
   "execution_count": 3,
   "metadata": {},
   "outputs": [],
   "source": [
    "img_path = \"hyundai_venue.jpg\""
   ]
  },
  {
   "cell_type": "code",
   "execution_count": 5,
   "metadata": {},
   "outputs": [],
   "source": [
    "image = cv2.imread(img_path)"
   ]
  },
  {
   "cell_type": "code",
   "execution_count": 7,
   "metadata": {},
   "outputs": [],
   "source": [
    "reader = easyocr.Reader(['en']) "
   ]
  },
  {
   "cell_type": "code",
   "execution_count": 8,
   "metadata": {},
   "outputs": [
    {
     "data": {
      "text/plain": [
       "[[[[17, 9], [913, 9], [913, 51], [17, 51]],\n",
       "  '2023 Hyundai Venue Review; Pricing; and Specs Car and Driver'],\n",
       " [[[39, 130], [1241, 130], [1241, 738], [39, 738]],\n",
       "  'Home Hyundai Venue 2023 Hyundai Select a year 20242023202220212020* Highs Ample cabin space, slew of driver assists, attractive starting price: Lows Lacks composure at speed, struggles to pass on the highway, lags rivals in available features_ Verdict Although the Venue struggles on the highway, it makes up for it as city-friendly errand-runner with a low price and great warranty. By Jack Fitzgerald and Eric StaffordOverview The 2023 Hyundai Venue is pint-sized crossover with a quart-sized interior: While it lacks some desirable optional features such as all-wheel drive, the Venue comes with a host of driver assistance features as well as infotainment goodies including Apple CarPlay and Android Auto. All Venues are equipped with 121-hp four-cylinder engine, front-wheel drive, and a continuously variable automatic transmission(CVT) This powertrain lacks power for passing on the highway, but it is perfectly suited for scooting around town. Despite its drawbacks, the Venues impressively low starting price and surprisingly spacious cabin makes it a compelling option for buyers on a budget:']]"
      ]
     },
     "execution_count": 8,
     "metadata": {},
     "output_type": "execute_result"
    }
   ],
   "source": [
    "reader.readtext(image, paragraph=True)"
   ]
  },
  {
   "cell_type": "code",
   "execution_count": null,
   "metadata": {},
   "outputs": [],
   "source": []
  }
 ],
 "metadata": {
  "kernelspec": {
   "display_name": "Python 3",
   "language": "python",
   "name": "python3"
  },
  "language_info": {
   "codemirror_mode": {
    "name": "ipython",
    "version": 3
   },
   "file_extension": ".py",
   "mimetype": "text/x-python",
   "name": "python",
   "nbconvert_exporter": "python",
   "pygments_lexer": "ipython3",
   "version": "0.0.0"
  }
 },
 "nbformat": 4,
 "nbformat_minor": 2
}
